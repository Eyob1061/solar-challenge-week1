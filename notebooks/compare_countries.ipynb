{
 "cells": [
 {
 "cell_type": "code",
 "execution_count": null,
 "metadata": {},
 "outputs": [],
 "source": [
 "import pandas as pd\n",
 "import numpy as np\n",
 "import matplotlib.pyplot as plt\n",
 "import seaborn as sns\n",
 "import os\n",
 "from scipy.stats import zscore, kruskal\n",
 "\n",
 "# Display settings\n",
 "pd.set_option('display.max_columns', None)\n",
 "sns.set(style=\"whitegrid\")\n"
 ]
 },
 {
 "cell_type": "markdown",
 "metadata": {},
 "source": [
 "# Comparing Solar Data Across Countries\n",
 "\n",
 "This notebook analyzes and compares solar data from different countries in the dataset."
 ]
 },
 {
 "cell_type": "code",
 "execution_count": null,
 "metadata": {},
 "outputs": [],
 "source": [
 "# Load the datasets\n",
 "benin = pd.read_csv(\"../data/benin_clean.csv\")\n",
 "togo = pd.read_csv(\"../data/togo-dapaong_qc.csv\")\n",
 "sierra = pd.read_csv(\"../data/sierraleone-bumbuna.csv\")\n",
 "\n",
 "# Add country labels\n",
 "benin[\"Country\"] = \"Benin\"\n",
 "togo[\"Country\"] = \"Togo\"\n",
 "sierra[\"Country\"] = \"Sierra Leone\"\n",
 "\n",
 "# Combine all datasets\n",
 "df_all = pd.concat([benin, togo, sierra], ignore_index=True)\n"
 ]
 },
 {
 "cell_type": "markdown",
 "metadata": {},
 "source": [
 "## Solar Radiation Comparison\n",
 "\n",
 "Comparing GHI, DNI, and DHI distributions across countries using boxplots."
 ]
 },
 {
 "cell_type": "code",
 "execution_count": null,
 "metadata": {},
 "outputs": [],
 "source": [
 "# Create boxplots for each solar radiation metric\n",
 "for col in [\"GHI\", \"DNI\", \"DHI\"]:\n",
 " plt.figure(figsize=(8, 5))\n",
 " sns.boxplot(x=\"Country\", y=col, data=df_all)\n",
 " plt.title(f\"{col} Comparison Across Countries\")\n",
 " plt.show()\n"
 ]
 },
 {
 "cell_type": "markdown",
 "metadata": {},
 "source": [
 "## Statistical Summary\n",
 "\n",
 "Calculate summary statistics (mean, median, standard deviation) for each solar radiation metric by country."
 ]
 },
 {
 "cell_type": "code",
 "execution_count": null,
 "metadata": {},
 "outputs": [],
 "source": [
 "# Calculate summary statistics by country\n",
 "summary = df_all.groupby(\"Country\")[[\"GHI\", \"DNI\", \"DHI\"]].agg([\"mean\", \"median\", \"std\"])\n",
 "summary\n"
 ]
 },
 {
 "cell_type": "markdown",
 "metadata": {},
 "source": [
 "## Statistical Tests\n",
 "\n",
 "Perform Kruskal-Wallis test to check if there are statistically significant differences in solar radiation metrics between countries."
 ]
 },
 {
 "cell_type": "code",
 "execution_count": null,
 "metadata": {},
 "outputs": [],
 "source": [
 "# Using Kruskal-Wallis (non-parametric)\n",
 "ghi_test = kruskal(benin[\"GHI\"], togo[\"GHI\"], sierra[\"GHI\"])\n",
 "print(f\"GHI Kruskal-Wallis H-statistic: {ghi_test.statistic}, p-value: {ghi_test.pvalue}\")\n"
 ]
 },
 {
 "cell_type": "code",
 "execution_count": null,
 "metadata": {},
 "outputs": [],
 "source": [
 "# Bar Chart: Average GHI by Country\n",
 "\n",
 "avg_ghi = df_all.groupby(\"Country\")[\"GHI\"].mean().sort_values()\n",
 "avg_ghi.plot(kind='bar', title=\"Average GHI by Country\", figsize=(8, 5))\n",
 "plt.ylabel(\"GHI\")\n",
 "plt.show()\n"
 ]
 }
 ],
 "metadata": {
 "kernelspec": {
 "display_name": "Python 3",
 "language": "python",
 "name": "python3"
 },
 "language_info": {
 "codemirror_mode": {
 "name": "ipython",
 "version": 3
 },
 "file_extension": ".py",
 "mimetype": "text/x-python",
 "name": "python",
 "nbconvert_exporter": "python",
 "pygments_lexer": "ipython3",
 "version": "3.8.0"
 }
 },
 "nbformat": 4,
 "nbformat_minor": 4
}